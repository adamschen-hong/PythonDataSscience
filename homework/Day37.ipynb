{
 "cells": [
  {
   "cell_type": "markdown",
   "id": "d022d185",
   "metadata": {},
   "source": [
    "###1.線性回歸模型能夠準確預測非線性關係的資料集嗎?\n",
    "Ans: 若資料呈現非線性的分佈，那線性迴歸的效果就很差。M5P樹狀迴歸演算法是Weka內建的一種迴歸演算法。它可根據資料的分佈建立多種迴歸模型，依據輸入資料的不同來決定適用的迴歸模型。比起傳統的線性迴歸，M5P能夠準確預測非線性的資料，而且規則與迴歸模型容易解讀。相較於類神經網路和支持向量機等黑箱演算法，白箱演算法的M5P更容易用於研究結果的解釋上。\n",
    "\n",
    "###2. 回歸模型是否對資料分布有基本假設?\n",
    "Ans:現今模型有許多技巧使資料不符合基本假設一能夠訓續但對模型使用的基本限制有一定的了解能夠幫助你找出訓練不佳的問題是什麼?\n",
    "迴歸分析的基本統計假設有下列四項：\n",
    "線性關係\n",
    "依變數和自變數之間的關係必須是線性，也就是說，依變數與自變數存在著 相當固定比率的關係，若是發現依變數與自變數呈現非線性關係時，可以透 過轉換(transform)成線性關係，再進行迴歸分析。\n",
    "\n",
    "常態性(normality)\n",
    "若是資料呈現常態分配 (normal distribution)，則誤差項也會呈現同樣的分 配，當樣本數夠大時，檢查的方式是使用簡單的 Histogram (直方圖)，若是 樣本數較小時，檢查的方式是使用 normal probability plot (常態機率圖)。\n",
    "\n",
    "誤差項的獨立性\n",
    "自變數的誤差項，相互之間應該是獨立的，也就是誤差項與誤差項之間没有 相互關係，否則，在估計迴歸參數時，會降低統計的檢定力，我們可以藉由 殘差(Residuals)的圖形分析來檢查，尤其是與時間序列和事件相關的資料， 特別需要注意去處理。\n",
    "\n",
    "誤差項的變異數相等(Homoscedasticity)\n",
    "自變數的誤差項除了需要呈現常態性分配外，其變量數也需要相等，變量數 的不相等(heteroscedasticity)會導致自變數無法有效的估計應變數，例如：殘 差分佈分析時，所呈現的三角形分佈和鑽石分佈，在 spss 軟體中，我們可以 使用 Levene test，來測試變異數的一致性，當變異數的不相等發生時，我們 可以透過轉換(transform)成變異數的相等後，再進行迴歸分析。"
   ]
  }
 ],
 "metadata": {
  "kernelspec": {
   "display_name": "Python 3",
   "language": "python",
   "name": "python3"
  },
  "language_info": {
   "codemirror_mode": {
    "name": "ipython",
    "version": 3
   },
   "file_extension": ".py",
   "mimetype": "text/x-python",
   "name": "python",
   "nbconvert_exporter": "python",
   "pygments_lexer": "ipython3",
   "version": "3.7.1"
  }
 },
 "nbformat": 4,
 "nbformat_minor": 5
}
