{
 "cells": [
  {
   "cell_type": "markdown",
   "id": "premier-cradle",
   "metadata": {},
   "source": [
    "作業\n",
    "1. 在速度較慢的時候，可以先從哪邊開始檢查？¶"
   ]
  },
  {
   "cell_type": "markdown",
   "id": "selected-airport",
   "metadata": {},
   "source": [
    "Ans:\n",
    "讀取的資料型態\n",
    "使用函式時，是否是採用內建函數\n"
   ]
  },
  {
   "cell_type": "markdown",
   "id": "polish-forty",
   "metadata": {},
   "source": [
    "2. 資料過⼤時應採取什麼⽅式讓記憶體占⽤量下降？"
   ]
  },
  {
   "cell_type": "code",
   "execution_count": null,
   "id": "hidden-victory",
   "metadata": {},
   "outputs": [],
   "source": [
    "Ans: 可以將欄位的型態降級，使得記憶體占用量降低。"
   ]
  }
 ],
 "metadata": {
  "kernelspec": {
   "display_name": "Python 3",
   "language": "python",
   "name": "python3"
  },
  "language_info": {
   "codemirror_mode": {
    "name": "ipython",
    "version": 3
   },
   "file_extension": ".py",
   "mimetype": "text/x-python",
   "name": "python",
   "nbconvert_exporter": "python",
   "pygments_lexer": "ipython3",
   "version": "3.7.9"
  }
 },
 "nbformat": 4,
 "nbformat_minor": 5
}
