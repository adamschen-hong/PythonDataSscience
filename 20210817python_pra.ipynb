{
  "nbformat": 4,
  "nbformat_minor": 0,
  "metadata": {
    "colab": {
      "name": "20210817python_pra.ipynb",
      "provenance": [],
      "mount_file_id": "15qln4GWYhZBnpzcducfP8BcYZd0S3-oA",
      "authorship_tag": "ABX9TyNeAJfzv2iInH2eiy17FG4+",
      "include_colab_link": true
    },
    "kernelspec": {
      "name": "python3",
      "display_name": "Python 3"
    },
    "language_info": {
      "name": "python"
    },
    "accelerator": "GPU"
  },
  "cells": [
    {
      "cell_type": "markdown",
      "metadata": {
        "id": "view-in-github",
        "colab_type": "text"
      },
      "source": [
        "<a href=\"https://colab.research.google.com/github/adamschen-hong/ML100Days/blob/main/20210817python_pra.ipynb\" target=\"_parent\"><img src=\"https://colab.research.google.com/assets/colab-badge.svg\" alt=\"Open In Colab\"/></a>"
      ]
    },
    {
      "cell_type": "code",
      "metadata": {
        "colab": {
          "base_uri": "https://localhost:8080/"
        },
        "id": "IyS06OZW-2y7",
        "outputId": "47f625a2-958a-43ab-dbbe-5bad965de747"
      },
      "source": [
        "!pip install pytube"
      ],
      "execution_count": 2,
      "outputs": [
        {
          "output_type": "stream",
          "text": [
            "Collecting pytube\n",
            "  Downloading pytube-11.0.0-py3-none-any.whl (55 kB)\n",
            "\u001b[?25l\r\u001b[K     |█████▉                          | 10 kB 26.5 MB/s eta 0:00:01\r\u001b[K     |███████████▊                    | 20 kB 9.1 MB/s eta 0:00:01\r\u001b[K     |█████████████████▋              | 30 kB 7.7 MB/s eta 0:00:01\r\u001b[K     |███████████████████████▌        | 40 kB 7.3 MB/s eta 0:00:01\r\u001b[K     |█████████████████████████████▎  | 51 kB 4.2 MB/s eta 0:00:01\r\u001b[K     |████████████████████████████████| 55 kB 2.1 MB/s \n",
            "\u001b[?25hInstalling collected packages: pytube\n",
            "Successfully installed pytube-11.0.0\n"
          ],
          "name": "stdout"
        }
      ]
    },
    {
      "cell_type": "code",
      "metadata": {
        "colab": {
          "base_uri": "https://localhost:8080/"
        },
        "id": "gSp04NR_BqqS",
        "outputId": "11d6938d-366e-4b6d-fb29-859d1211ae9c"
      },
      "source": [
        "#基礎爬蟲\n",
        "import requests\n",
        "url = 'http://ehappy.tw/bsdemo1.htm'\n",
        "html = requests.get(url)\n",
        "html.encoding=\"utf-8\"\n",
        "print(html.text)\n"
      ],
      "execution_count": 3,
      "outputs": [
        {
          "output_type": "stream",
          "text": [
            "﻿<!doctype html>\r\n",
            "<html lang=\"zh\">\r\n",
            "  <head>\r\n",
            "    <meta charset=\"UTF-8\">\r\n",
            "    <title>我是網頁標題</title>\r\n",
            "  </head>\r\n",
            "  <body>\r\n",
            "    <h1 class=\"large\">我是標題</h1>\r\n",
            "    <div>\r\n",
            "      <p>我是段落</p>\r\n",
            "      <img src=\"https://www.w3.org/html/logo/downloads/HTML5_Logo_256.png\" alt=\"我是圖片\">\r\n",
            "      <a href=\"http://www.e-happy.com.tw\">我是超連結</a>\r\n",
            "    </div>\r\n",
            "  </body>\r\n",
            "</html>\n"
          ],
          "name": "stdout"
        }
      ]
    },
    {
      "cell_type": "code",
      "metadata": {
        "colab": {
          "base_uri": "https://localhost:8080/",
          "height": 36
        },
        "id": "Pp04WLy9Kncb",
        "outputId": "c20366e9-e02e-40ed-8daf-cd2df5b89a1e"
      },
      "source": [
        "from bs4 import BeautifulSoup\n",
        "sp = BeautifulSoup(html.text, \"html.parser\")\n",
        "sp.title.text"
      ],
      "execution_count": 4,
      "outputs": [
        {
          "output_type": "execute_result",
          "data": {
            "application/vnd.google.colaboratory.intrinsic+json": {
              "type": "string"
            },
            "text/plain": [
              "'我是網頁標題'"
            ]
          },
          "metadata": {
            "tags": []
          },
          "execution_count": 4
        }
      ]
    },
    {
      "cell_type": "code",
      "metadata": {
        "colab": {
          "base_uri": "https://localhost:8080/",
          "height": 36
        },
        "id": "6W87sF4AN4tD",
        "outputId": "fc0379c4-19b6-4475-ac5c-d6b0969c1ee5"
      },
      "source": [
        "sp.img.get('src')"
      ],
      "execution_count": 5,
      "outputs": [
        {
          "output_type": "execute_result",
          "data": {
            "application/vnd.google.colaboratory.intrinsic+json": {
              "type": "string"
            },
            "text/plain": [
              "'https://www.w3.org/html/logo/downloads/HTML5_Logo_256.png'"
            ]
          },
          "metadata": {
            "tags": []
          },
          "execution_count": 5
        }
      ]
    },
    {
      "cell_type": "code",
      "metadata": {
        "colab": {
          "base_uri": "https://localhost:8080/"
        },
        "id": "982G6gouPgry",
        "outputId": "16a9447e-1bfd-44e7-b37f-c24ed823e2a2"
      },
      "source": [
        "import requests\n",
        "from bs4 import BeautifulSoup\n",
        "url= 'http://ehappy.tw/bsdemo1.htm'\n",
        "html = requests.get(url) \t\n",
        "html.encoding=\"utf-8\"        \t\n",
        "sp = BeautifulSoup(html.text,'html.parser')\n",
        "print(sp.text) #顯示內容，不包含html標籤\n",
        "print(sp.title) #顯示指定標籤內容\n",
        "print(sp.title.text) #顯示指定標籤內容, 不包含html標籤\n"
      ],
      "execution_count": 6,
      "outputs": [
        {
          "output_type": "stream",
          "text": [
            "﻿\n",
            "\n",
            "\n",
            "\n",
            "我是網頁標題\n",
            "\n",
            "\n",
            "我是標題\n",
            "\n",
            "我是段落\n",
            "\n",
            "我是超連結\n",
            "\n",
            "\n",
            "\n",
            "<title>我是網頁標題</title>\n",
            "我是網頁標題\n"
          ],
          "name": "stdout"
        }
      ]
    },
    {
      "cell_type": "code",
      "metadata": {
        "colab": {
          "base_uri": "https://localhost:8080/"
        },
        "id": "vqWx3RlfQbLj",
        "outputId": "7d854890-93ac-4a78-a4c9-e6b7e6fe02b2"
      },
      "source": [
        "sp.find_all('a')"
      ],
      "execution_count": 7,
      "outputs": [
        {
          "output_type": "execute_result",
          "data": {
            "text/plain": [
              "[<a href=\"http://www.e-happy.com.tw\">我是超連結</a>]"
            ]
          },
          "metadata": {
            "tags": []
          },
          "execution_count": 7
        }
      ]
    },
    {
      "cell_type": "code",
      "metadata": {
        "id": "Do77pId9n1nb"
      },
      "source": [
        "import requests\n",
        "from bs4 import BeautifulSoup\n",
        "url= 'https://www.ptt.cc/bbs/Food/index.html'\n",
        "html = requests.get(url)     \n",
        "html.encoding=\"utf-8\"            \n",
        "sp = BeautifulSoup(html.text,'html.parser')\n"
      ],
      "execution_count": 8,
      "outputs": []
    },
    {
      "cell_type": "code",
      "metadata": {
        "colab": {
          "base_uri": "https://localhost:8080/"
        },
        "id": "RoMRlob1n_OK",
        "outputId": "cf8eebb9-6fe5-4649-829c-8bf056acfbbf"
      },
      "source": [
        "import requests\n",
        "from bs4 import BeautifulSoup\n",
        "url= 'https://www.ptt.cc/bbs/Food/index.html'\n",
        "html = requests.get(url)     \n",
        "html.encoding=\"utf-8\"            \n",
        "sp = BeautifulSoup(html.text,'html.parser')\n",
        "\n",
        "links = sp.find_all(\"div\", class_=\"title\")\n",
        "for link in links:\n",
        "    adata = link.find(\"a\")\n",
        "    print(\"http://www.ptt.cc\" + adata['href'], adata.text)\n"
      ],
      "execution_count": 9,
      "outputs": [
        {
          "output_type": "stream",
          "text": [
            "http://www.ptt.cc/bbs/Food/M.1629110767.A.310.html [食記] 高雄 壽司郎中正店 迴轉壽司自取外帶回家\n",
            "http://www.ptt.cc/bbs/Food/M.1629111245.A.AC0.html [請益] 山海樓的外帶套餐建議\n",
            "http://www.ptt.cc/bbs/Food/M.1629116850.A.4B8.html [食記] 高雄 新興 17號西班牙餐酒館\n",
            "http://www.ptt.cc/bbs/Food/M.1629119902.A.0F2.html [食記]永和樂澄小店牛肉麵專門店\n",
            "http://www.ptt.cc/bbs/Food/M.1629120457.A.FC2.html [食記] 新店 黑角\n",
            "http://www.ptt.cc/bbs/Food/M.1629123048.A.0EC.html [食記] [台北][中山] 家鴻燒鵝/排隊30分鐘也要吃\n",
            "http://www.ptt.cc/bbs/Food/M.1629129744.A.8B2.html [食記] 基隆市信義區-瑞英生煎包鍋貼\n",
            "http://www.ptt.cc/bbs/Food/M.1629133187.A.328.html [食記] 個人認為史上最雷高評價店-桃園村民食堂\n",
            "http://www.ptt.cc/bbs/Food/M.1629133983.A.6E5.html [食記] 台北 公館 曉鹿鳴樓上海菜\n",
            "http://www.ptt.cc/bbs/Food/M.1629142573.A.31B.html [廣宣] 苗栗後龍 堅果爸爸 低溫烘焙堅果\n",
            "http://www.ptt.cc/bbs/Food/M.1629149436.A.FBD.html [請益] 想找吃起來味道及口感和山岡家類似的拉\n",
            "http://www.ptt.cc/bbs/Food/M.1629159751.A.534.html [食記] 嘉義 東門圓環旁 東門小卷麵線\n",
            "http://www.ptt.cc/bbs/Food/M.1629160601.A.148.html [食記] 桃園中壢區。斜坡粉漿蛋餅\n",
            "http://www.ptt.cc/bbs/Food/M.1629169314.A.E0D.html [食記] 台北中山 柒串燒\n",
            "http://www.ptt.cc/bbs/Food/M.1629177879.A.D04.html [食記] 基隆 第34夜 隱藏在巷弄 鮮美噴香海鮮義大利麵\n",
            "http://www.ptt.cc/bbs/Food/M.1355673582.A.5F7.html [公告] Food板 板規 V3.91\n",
            "http://www.ptt.cc/bbs/Food/M.1190944426.A.E6C.html [公告] 發文請在標題加上地區及提供地址電話。^^\n",
            "http://www.ptt.cc/bbs/Food/M.1128132666.A.0FD.html [公告] 文章被刪除者請洽精華區的資源回收桶\n",
            "http://www.ptt.cc/bbs/Food/M.1496532469.A.C36.html [公告] 新增板規22：發文禁附延伸閱讀連結\n"
          ],
          "name": "stdout"
        }
      ]
    },
    {
      "cell_type": "code",
      "metadata": {
        "colab": {
          "base_uri": "https://localhost:8080/",
          "height": 36
        },
        "id": "8qWY1xtxrWvr",
        "outputId": "7049c215-2c4b-4464-81fb-8721098e3227"
      },
      "source": [
        "sp.title.text"
      ],
      "execution_count": 10,
      "outputs": [
        {
          "output_type": "execute_result",
          "data": {
            "application/vnd.google.colaboratory.intrinsic+json": {
              "type": "string"
            },
            "text/plain": [
              "'看板 Food 文章列表 - 批踢踢實業坊'"
            ]
          },
          "metadata": {
            "tags": []
          },
          "execution_count": 10
        }
      ]
    },
    {
      "cell_type": "code",
      "metadata": {
        "colab": {
          "base_uri": "https://localhost:8080/"
        },
        "id": "FeQbdeharpya",
        "outputId": "9c7beec8-3ab1-4d4c-b527-419d49813ed0"
      },
      "source": [
        "sp = BeautifulSoup(html.text,'html.parser')\n",
        "datas=sp.find_all('div',class_=\"r-ent\")\n",
        "for data in datas:\n",
        "    print(data.find('div', class_='date').text, end=\" \")\n",
        "    print(\"https://www.ptt.cc/\"+data.a.get('href'), end=\" \")\n",
        "    print(data.a.text) #取得標題\n",
        "    \n"
      ],
      "execution_count": 27,
      "outputs": [
        {
          "output_type": "stream",
          "text": [
            " 8/16 https://www.ptt.cc//bbs/Food/M.1629110767.A.310.html [食記] 高雄 壽司郎中正店 迴轉壽司自取外帶回家\n",
            " 8/16 https://www.ptt.cc//bbs/Food/M.1629111245.A.AC0.html [請益] 山海樓的外帶套餐建議\n",
            " 8/16 https://www.ptt.cc//bbs/Food/M.1629116850.A.4B8.html [食記] 高雄 新興 17號西班牙餐酒館\n",
            " 8/16 https://www.ptt.cc//bbs/Food/M.1629119902.A.0F2.html [食記]永和樂澄小店牛肉麵專門店\n",
            " 8/16 https://www.ptt.cc//bbs/Food/M.1629120457.A.FC2.html [食記] 新店 黑角\n",
            " 8/16 https://www.ptt.cc//bbs/Food/M.1629123048.A.0EC.html [食記] [台北][中山] 家鴻燒鵝/排隊30分鐘也要吃\n",
            " 8/17 https://www.ptt.cc//bbs/Food/M.1629129744.A.8B2.html [食記] 基隆市信義區-瑞英生煎包鍋貼\n",
            " 8/17 https://www.ptt.cc//bbs/Food/M.1629133187.A.328.html [食記] 個人認為史上最雷高評價店-桃園村民食堂\n",
            " 8/17 https://www.ptt.cc//bbs/Food/M.1629133983.A.6E5.html [食記] 台北 公館 曉鹿鳴樓上海菜\n",
            " 8/17 https://www.ptt.cc//bbs/Food/M.1629142573.A.31B.html [廣宣] 苗栗後龍 堅果爸爸 低溫烘焙堅果\n",
            " 8/17 https://www.ptt.cc//bbs/Food/M.1629149436.A.FBD.html [請益] 想找吃起來味道及口感和山岡家類似的拉\n",
            " 8/17 https://www.ptt.cc//bbs/Food/M.1629159751.A.534.html [食記] 嘉義 東門圓環旁 東門小卷麵線\n",
            " 8/17 https://www.ptt.cc//bbs/Food/M.1629160601.A.148.html [食記] 桃園中壢區。斜坡粉漿蛋餅\n",
            " 8/17 https://www.ptt.cc//bbs/Food/M.1629169314.A.E0D.html [食記] 台北中山 柒串燒\n",
            " 8/17 https://www.ptt.cc//bbs/Food/M.1629177879.A.D04.html [食記] 基隆 第34夜 隱藏在巷弄 鮮美噴香海鮮義大利麵\n",
            "12/16 https://www.ptt.cc//bbs/Food/M.1355673582.A.5F7.html [公告] Food板 板規 V3.91\n",
            " 9/28 https://www.ptt.cc//bbs/Food/M.1190944426.A.E6C.html [公告] 發文請在標題加上地區及提供地址電話。^^\n",
            "10/01 https://www.ptt.cc//bbs/Food/M.1128132666.A.0FD.html [公告] 文章被刪除者請洽精華區的資源回收桶\n",
            " 6/04 https://www.ptt.cc//bbs/Food/M.1496532469.A.C36.html [公告] 新增板規22：發文禁附延伸閱讀連結\n"
          ],
          "name": "stdout"
        }
      ]
    },
    {
      "cell_type": "code",
      "metadata": {
        "colab": {
          "base_uri": "https://localhost:8080/",
          "height": 36
        },
        "id": "0K3VbQy6wVIn",
        "outputId": "6c3780c5-ab1f-4772-da46-c9fb49eaeb4d"
      },
      "source": [
        "#class_=\"btn wide\"\n",
        "#len()\n",
        "sp.find_all('a',class_=\"btn wide\")[1].get('href')"
      ],
      "execution_count": 35,
      "outputs": [
        {
          "output_type": "execute_result",
          "data": {
            "application/vnd.google.colaboratory.intrinsic+json": {
              "type": "string"
            },
            "text/plain": [
              "'/bbs/Food/index8.html'"
            ]
          },
          "metadata": {
            "tags": []
          },
          "execution_count": 35
        }
      ]
    },
    {
      "cell_type": "code",
      "metadata": {
        "colab": {
          "base_uri": "https://localhost:8080/"
        },
        "id": "AAchnLSSzYKq",
        "outputId": "333ec100-247b-415e-c7e4-0c0f022a7ffc"
      },
      "source": [
        "import requests\n",
        "from bs4 import BeautifulSoup\n",
        "url= 'https://www.ptt.cc/bbs/Food/index.html'\n",
        "for i in range(5):\n",
        "    print(\"第{}頁\".format(+1))\n",
        "    html = requests.get(url)     \n",
        "    html.encoding=\"utf-8\"            \n",
        "    sp = BeautifulSoup(html.text,'html.parser')    \n",
        "    datas=sp.find_all('div',class_=\"r-ent\")\n",
        "    for data in datas:\n",
        "        print(data.find('div', class_='date').text, end=\" \")\n",
        "        print(\"https://www.ptt.cc/\"+data.a.get('href'), end=\" \")\n",
        "        print(data.a.text) #取得標題\n",
        "    url=\"https://www.ptt.cc/\"+sp.find_all('a',class_=\"btn wide\")[1].get('href')"
      ],
      "execution_count": 37,
      "outputs": [
        {
          "output_type": "stream",
          "text": [
            "第1頁\n",
            " 8/16 https://www.ptt.cc//bbs/Food/M.1629110767.A.310.html [食記] 高雄 壽司郎中正店 迴轉壽司自取外帶回家\n",
            " 8/16 https://www.ptt.cc//bbs/Food/M.1629111245.A.AC0.html [請益] 山海樓的外帶套餐建議\n",
            " 8/16 https://www.ptt.cc//bbs/Food/M.1629116850.A.4B8.html [食記] 高雄 新興 17號西班牙餐酒館\n",
            " 8/16 https://www.ptt.cc//bbs/Food/M.1629119902.A.0F2.html [食記]永和樂澄小店牛肉麵專門店\n",
            " 8/16 https://www.ptt.cc//bbs/Food/M.1629120457.A.FC2.html [食記] 新店 黑角\n",
            " 8/16 https://www.ptt.cc//bbs/Food/M.1629123048.A.0EC.html [食記] [台北][中山] 家鴻燒鵝/排隊30分鐘也要吃\n",
            " 8/17 https://www.ptt.cc//bbs/Food/M.1629129744.A.8B2.html [食記] 基隆市信義區-瑞英生煎包鍋貼\n",
            " 8/17 https://www.ptt.cc//bbs/Food/M.1629133187.A.328.html [食記] 個人認為史上最雷高評價店-桃園村民食堂\n",
            " 8/17 https://www.ptt.cc//bbs/Food/M.1629133983.A.6E5.html [食記] 台北 公館 曉鹿鳴樓上海菜\n",
            " 8/17 https://www.ptt.cc//bbs/Food/M.1629142573.A.31B.html [廣宣] 苗栗後龍 堅果爸爸 低溫烘焙堅果\n",
            " 8/17 https://www.ptt.cc//bbs/Food/M.1629149436.A.FBD.html [請益] 想找吃起來味道及口感和山岡家類似的拉\n",
            " 8/17 https://www.ptt.cc//bbs/Food/M.1629159751.A.534.html [食記] 嘉義 東門圓環旁 東門小卷麵線\n",
            " 8/17 https://www.ptt.cc//bbs/Food/M.1629160601.A.148.html [食記] 桃園中壢區。斜坡粉漿蛋餅\n",
            " 8/17 https://www.ptt.cc//bbs/Food/M.1629169314.A.E0D.html [食記] 台北中山 柒串燒\n",
            " 8/17 https://www.ptt.cc//bbs/Food/M.1629177879.A.D04.html [食記] 基隆 第34夜 隱藏在巷弄 鮮美噴香海鮮義大利麵\n",
            " 8/17 https://www.ptt.cc//bbs/Food/M.1629179081.A.954.html [食記] 新北樹林 鑫記碳烤肉餅\n",
            "12/16 https://www.ptt.cc//bbs/Food/M.1355673582.A.5F7.html [公告] Food板 板規 V3.91\n",
            " 9/28 https://www.ptt.cc//bbs/Food/M.1190944426.A.E6C.html [公告] 發文請在標題加上地區及提供地址電話。^^\n",
            "10/01 https://www.ptt.cc//bbs/Food/M.1128132666.A.0FD.html [公告] 文章被刪除者請洽精華區的資源回收桶\n",
            " 6/04 https://www.ptt.cc//bbs/Food/M.1496532469.A.C36.html [公告] 新增板規22：發文禁附延伸閱讀連結\n",
            "第1頁\n",
            " 8/15 https://www.ptt.cc//bbs/Food/M.1629011254.A.9DE.html [食記] [新北][板橋] 肉多多/肉超多高CP外帶防疫\n",
            " 8/15 https://www.ptt.cc//bbs/Food/M.1629011341.A.D94.html [食記] 台北大安 Waiting Bistro餐酒館\n",
            " 8/15 https://www.ptt.cc//bbs/Food/M.1629022507.A.2F0.html [食記] 台北中山 晶華軒 晶華酒店 西施泡飯 沒有烤鴨 高檔套餐\n",
            " 8/15 https://www.ptt.cc//bbs/Food/M.1629023182.A.051.html [食記] 台北 善導寺 東北之家酸菜白肉鍋      \n",
            " 8/15 https://www.ptt.cc//bbs/Food/M.1629029411.A.336.html [食記] 北海道 友善的熊 單純原味的鐵板燒\n",
            " 8/15 https://www.ptt.cc//bbs/Food/M.1629033017.A.065.html [食記] 台東關山臭豆腐-隱藏市場的排隊名店\n",
            " 8/15 https://www.ptt.cc//bbs/Food/M.1629035035.A.B5F.html [食記] 高雄 串吧酒食居 外帶9折 玉子燒 花生吐司\n",
            " 8/15 https://www.ptt.cc//bbs/Food/M.1629035629.A.FBF.html [食記] [新竹][竹北] 大廟厚切牛排/超美味厚切牛\n",
            " 8/15 https://www.ptt.cc//bbs/Food/M.1629036427.A.09C.html [食記] 新店 鮨心匠\n",
            " 8/15 https://www.ptt.cc//bbs/Food/M.1629036456.A.F8E.html [食記] 新北 拿坡里披薩 MINI披薩搭兩塊炸雞飲料\n",
            " 8/15 https://www.ptt.cc//bbs/Food/M.1629042525.A.1C5.html [食記] 台北南港五分埔 鄉味蚵仔炸(古早味蚵嗲\n",
            " 8/16 https://www.ptt.cc//bbs/Food/M.1629050091.A.0B1.html [食記] 台中 超級Super 古巴三明治：有點乾柴\n",
            " 8/16 https://www.ptt.cc//bbs/Food/M.1629074576.A.175.html [食記] 七夕大餐｜頭份。柒石柒石頭鍋專賣店\n",
            " 8/16 https://www.ptt.cc//bbs/Food/M.1629078067.A.E7C.html [食記] 西門町 千葉火鍋 熟食壽司吃到飽\n",
            " 8/16 https://www.ptt.cc//bbs/Food/M.1629078905.A.524.html [食記] 嘉義 文化路早餐，吉丸飯糰小巴混蛋飯糰\n",
            " 8/16 https://www.ptt.cc//bbs/Food/M.1629087057.A.3A9.html [食記] 台北大安 這間咖啡：深夜咖啡 不限時\n",
            " 8/16 https://www.ptt.cc//bbs/Food/M.1629091643.A.669.html [食記] 台北 萬華 冰雪蔬蔬\n",
            " 8/16 https://www.ptt.cc//bbs/Food/M.1629092248.A.111.html [食記] 台北 松山 Cantine Marais 瑪黑餐酒 (外送外帶)\n",
            " 8/16 https://www.ptt.cc//bbs/Food/M.1629098161.A.52C.html [食記] 宜蘭蘇澳 無名蝦餅蚵嗲蘿蔔糕\n",
            " 8/16 https://www.ptt.cc//bbs/Food/M.1629100085.A.38A.html [食記] 東京 迴轉壽司トリトン 緣側的多變呈現\n",
            "第1頁\n",
            " 8/13 https://www.ptt.cc//bbs/Food/M.1628859698.A.224.html [食記] 宜蘭礁溪咖啡廳-【瑪德琳咖啡】\n",
            " 8/13 https://www.ptt.cc//bbs/Food/M.1628859841.A.03D.html [食記] 台南中西早餐吃到飽-康橋商旅(赤崁樓館)\n",
            " 8/13 https://www.ptt.cc//bbs/Food/M.1628860229.A.A71.html [食記] 台中 羅家古早味 2021米其林必比登推薦\n",
            " 8/14 https://www.ptt.cc//bbs/Food/M.1628871711.A.2F3.html [食記] 臺北大安 馬辣火鍋外帶\n",
            " 8/14 https://www.ptt.cc//bbs/Food/M.1628906509.A.186.html [食記] 台北。台式便當-好記擔仔麵~擔仔麵$40\n",
            " 8/14 https://www.ptt.cc//bbs/Food/M.1628909807.A.AAB.html [食記] 花蓮豐濱 伊娜飛魚餐廳\n",
            " 8/14 https://www.ptt.cc//bbs/Food/M.1628911260.A.435.html [食記] 台南北區 豬頭妹韓式燒肉吃到飽 平日299\n",
            " 8/14 https://www.ptt.cc//bbs/Food/M.1628911286.A.DD0.html [食記] 桃園中壢區。川妹子酸辣粉\n",
            " 8/14 https://www.ptt.cc//bbs/Food/M.1628919577.A.BF5.html [問卷] 2021 台北/台中 米其林 必比登 體驗調查 問卷調查\n",
            " 8/14 https://www.ptt.cc//bbs/Food/M.1628926954.A.903.html [食記] 台北松山區 1010湘復北店-合菜\n",
            " 8/14 https://www.ptt.cc//bbs/Food/M.1628931806.A.DB8.html [食記] 台北東區 居酒屋餐廳 山男YAMASAN\n",
            " 8/14 https://www.ptt.cc//bbs/Food/M.1628943587.A.C1D.html [食記] 高雄 新志割烹 價格偏高的外帶散壽司\n",
            " 8/14 https://www.ptt.cc//bbs/Food/M.1628947503.A.EE3.html [食記] 基隆市仁愛區-仁愛市場大腸圈\n",
            " 8/14 https://www.ptt.cc//bbs/Food/M.1628949214.A.718.html [食記] 新店 賴岡山羊肉\n",
            " 8/15 https://www.ptt.cc//bbs/Food/M.1628995215.A.9C0.html [食記] 桃園中壢區。府城担仔麵\n",
            " 8/15 https://www.ptt.cc//bbs/Food/M.1628996901.A.8F7.html [討論] （內有抽獎！）雙方交易關係之信任、承諾\n",
            " 8/15 https://www.ptt.cc//bbs/Food/M.1628999672.A.3A6.html [食記] 台北中正區 羅媽媽米粉湯-東門市場米粉湯\n",
            " 8/15 https://www.ptt.cc//bbs/Food/M.1629004507.A.94F.html [食記] 嘉義 常圓簡餐(原「先家簡餐」)\n",
            " 8/15 https://www.ptt.cc//bbs/Food/M.1629008101.A.C70.html [食記] 嘉義 吐司男，韓系早午餐\n",
            " 8/15 https://www.ptt.cc//bbs/Food/M.1629010580.A.833.html [食記] 台北松江南京站 食彩櫻日式料理-好吃炸雞\n",
            "第1頁\n",
            " 8/12 https://www.ptt.cc//bbs/Food/M.1628780608.A.E36.html [食記] 新北 三芝 林蜂肉粽 50年餘的老店\n",
            " 8/12 https://www.ptt.cc//bbs/Food/M.1628781415.A.82B.html [食記] 桃園 藏壽司桃園遠百店 桃園火車站旁\n",
            " 8/12 https://www.ptt.cc//bbs/Food/M.1628782114.A.2BF.html [食記] 高雄鹽埕 永和小籠湯包 巷口小吃店\n",
            " 8/12 https://www.ptt.cc//bbs/Food/M.1628782710.A.505.html [食記] 基隆市仁愛區-華星牛排館(外帶餐盒\n",
            " 8/13 https://www.ptt.cc//bbs/Food/M.1628784300.A.2F0.html [食記] 高雄 Marc L3 超低調的法式餐廳\n",
            " 8/13 https://www.ptt.cc//bbs/Food/M.1628786312.A.0D5.html [食記] 台北 東門 豐盛食堂\n",
            " 8/13 https://www.ptt.cc//bbs/Food/M.1628795914.A.C6F.html [食記] 中秋限定一口迷你蛋黃酥  MT49 CAFE\n",
            " 8/13 https://www.ptt.cc//bbs/Food/M.1628815075.A.8FE.html [食記] 嘉義 瀟湘園餡餅，眷村口味點心\n",
            " 8/13 https://www.ptt.cc//bbs/Food/M.1628818736.A.98F.html [食記] 台北松山-米其林推薦海鮮-先進海產店\n",
            " 8/13 https://www.ptt.cc//bbs/Food/M.1628824595.A.9F5.html [食記] 台北 芋頭大王 永康街pk南機場\n",
            " 8/13 https://www.ptt.cc//bbs/Food/M.1628825506.A.2FE.html [食記] 台北大安 Purebread Bakery：酸種麵包\n",
            " 8/13 https://www.ptt.cc//bbs/Food/M.1628830870.A.F50.html [食記] 台北中山 解封後的上引樂烹鍋物一樣美\n",
            " 8/13 https://www.ptt.cc//bbs/Food/M.1628847176.A.A8E.html [食記] 台中審計新村: 艸水木堂 遊樂園風格的甜\n",
            " 8/13 https://www.ptt.cc//bbs/Food/M.1628858911.A.749.html [食記] 台東市區-榕樹下米苔目\n",
            " 8/13 https://www.ptt.cc//bbs/Food/M.1628859049.A.7C2.html [食記] 新北中和早餐-永和豆漿(南山路)\n",
            " 8/13 https://www.ptt.cc//bbs/Food/M.1628859129.A.2A6.html [食記] 台北北投市場-文吉肉羹\n",
            " 8/13 https://www.ptt.cc//bbs/Food/M.1628859262.A.852.html [食記] 花蓮市區小吃-戴記扁食\n",
            " 8/13 https://www.ptt.cc//bbs/Food/M.1628859367.A.5F5.html [食記] 台北大安區早餐吃到飽-慕軒飯店\n",
            " 8/13 https://www.ptt.cc//bbs/Food/M.1628859474.A.B13.html [食記] 台北中正區善導寺站-滿滿咖哩\n",
            " 8/13 https://www.ptt.cc//bbs/Food/M.1628859562.A.BAC.html [食記] 基隆仁愛區-罌粟花精緻鍋物(套餐式火鍋)\n",
            "第1頁\n",
            " 8/11 https://www.ptt.cc//bbs/Food/M.1628694517.A.AFD.html [食記] 台北南港 鎮興燒臘(南港推薦燒臘油雞燒鴨\n",
            " 8/11 https://www.ptt.cc//bbs/Food/M.1628694647.A.30A.html [食記] 中壢 劉媽媽菜包店 傳統客家小吃\n",
            " 8/11 https://www.ptt.cc//bbs/Food/M.1628697383.A.B0F.html [食記] 台北 抹茶冰淇淋吃到飽．Japan Rail Cafe\n",
            " 8/12 https://www.ptt.cc//bbs/Food/M.1628698149.A.F8F.html [食記] 台北 士林 芝山 老街切仔麵\n",
            " 8/12 https://www.ptt.cc//bbs/Food/M.1628698484.A.20D.html [食記] 台北一樂拉麵 吃拉麵還是吃情懷？\n",
            " 8/12 https://www.ptt.cc//bbs/Food/M.1628740660.A.6EA.html [食記] 台北大安 柑橘Shinn Soba：柑橘鹽味拉麵\n",
            " 8/12 https://www.ptt.cc//bbs/Food/M.1628744653.A.A50.html [食記] 台南東區 紅燒花枝羹-後甲分店 \n",
            " 8/12 https://www.ptt.cc//bbs/Food/M.1628747106.A.F9B.html [食記] 桃園內壢美食推薦 玩味餐桌 TastingTable\n",
            " 8/12 https://www.ptt.cc//bbs/Food/M.1628747495.A.960.html [食記] 台中 三訪石庭兼六園 物超所值的外帶餐盒\n",
            " 8/12 https://www.ptt.cc//bbs/Food/M.1628749159.A.C52.html [食記]新北淡水。找餐食客 愛淡水青年的暖心早餐\n",
            " 8/12 https://www.ptt.cc//bbs/Food/M.1628750563.A.711.html [食記] 桃園中壢區。幸福小館\n",
            " 8/12 https://www.ptt.cc//bbs/Food/M.1628760012.A.AC0.html [食記] 台中西屯 大股熟成燒肉專門。超厚切牛舌!\n",
            " 8/12 https://www.ptt.cc//bbs/Food/M.1628760061.A.8D5.html [食記] 台南安平 孫家小卷米粉 少人知的低調好店\n",
            " 8/12 https://www.ptt.cc//bbs/Food/M.1628760753.A.463.html [食記] 台北 飛雞飯-「皮蛋巴斯克」！太前衛了！\n",
            " 8/12 https://www.ptt.cc//bbs/Food/M.1628766593.A.FC8.html [食記] 宜蘭礁溪 甕窯雞(宜蘭礁溪總店)\n",
            " 8/12 https://www.ptt.cc//bbs/Food/M.1628774728.A.D08.html [食記] [新竹][東區] 吳家莊油飯/彌月必吃油飯\n",
            " 8/12 https://www.ptt.cc//bbs/Food/M.1628776664.A.13E.html [食記] 高雄 楠梓-ひろ麵屋 塩味拉麵 & 豚骨拉麵\n",
            " 8/12 https://www.ptt.cc//bbs/Food/M.1628777360.A.391.html [食記] 高雄 香港人茶餐廳-優質燒臘飯道地西多士\n",
            " 8/12 https://www.ptt.cc//bbs/Food/M.1628777433.A.918.html [食記] 台南中西區-八峰亭 - 人氣限量日式拉麵\n",
            " 8/12 https://www.ptt.cc//bbs/Food/M.1628778310.A.70B.html [食記] 基隆仁愛 連珍糕餅店 基隆廟口百年老店\n"
          ],
          "name": "stdout"
        }
      ]
    },
    {
      "cell_type": "code",
      "metadata": {
        "colab": {
          "base_uri": "https://localhost:8080/"
        },
        "id": "xbUAkssF0zlU",
        "outputId": "4213dc61-b45e-4ba7-9728-0a56fdb1654d"
      },
      "source": [
        "import requests\n",
        "from bs4 import BeautifulSoup\n",
        "\n",
        "url= 'https://www.ptt.cc/bbs/Gossiping/index.html'\n",
        "\n",
        "headers = {\"cookie\":\"over18=1\"}\n",
        "\n",
        "html = requests.get(url, headers = headers)     \n",
        "html.encoding=\"utf-8\"            \n",
        "sp = BeautifulSoup(html.text,'html.parser')\n",
        "\n",
        "datas=sp.find_all('div',class_=\"r-ent\")\n",
        "for data in datas:\n",
        "    print(data.find('div', class_='date').text, end=\" \")\n",
        "    print(\"https://www.ptt.cc/\"+data.a.get('href'), end=\" \")\n",
        "    print(data.a.text) #取得標題\n"
      ],
      "execution_count": 41,
      "outputs": [
        {
          "output_type": "stream",
          "text": [
            " 8/17 https://www.ptt.cc//bbs/Gossiping/M.1629182452.A.44E.html [問卦] 便當的三樣菜選什麼最虧？\n",
            " 8/17 https://www.ptt.cc//bbs/Gossiping/M.1629182478.A.A56.html [問卦] 女權會組織軍隊拯救阿富汗嗎？\n",
            " 8/17 https://www.ptt.cc//bbs/Gossiping/M.1629182538.A.685.html [問卦] 如果法律消失，那你會想做什麼？\n",
            " 8/17 https://www.ptt.cc//bbs/Gossiping/M.1629182540.A.578.html Re: [問卦] 12猛漢最後一段說的是不是對極了\n",
            " 8/17 https://www.ptt.cc//bbs/Gossiping/M.1629182573.A.E94.html [問卦] 支語警察與支語信徒現在風向在誰那？\n",
            " 8/17 https://www.ptt.cc//bbs/Gossiping/M.1629182712.A.F0D.html [新聞] 「感謝大家說要還我公道！」馬英九：紓困\n",
            " 8/17 https://www.ptt.cc//bbs/Gossiping/M.1629182732.A.189.html [問卦] 什麼人可以打到兩劑輝瑞？\n",
            " 8/17 https://www.ptt.cc//bbs/Gossiping/M.1629182743.A.1FD.html Re: [新聞] 塔利班無法無天！擬定12至45歲「性奴隸清\n",
            " 8/17 https://www.ptt.cc//bbs/Gossiping/M.1629182770.A.DD8.html [問卦] 慟！發現白色的X毛怎麼辦？\n",
            " 8/17 https://www.ptt.cc//bbs/Gossiping/M.1629182776.A.755.html Re: [新聞] 高端首日結單！30.2萬人搶預約　現貨61.4\n",
            " 8/17 https://www.ptt.cc//bbs/Gossiping/M.1629182823.A.3FC.html [問卦] 阿富汗總統如果有錦囊 上面會寫什麼\n",
            " 8/17 https://www.ptt.cc//bbs/Gossiping/M.1629182855.A.D07.html Re: [新聞] 拜登辯護撤軍決定：阿富汗軍不肯戰 不該\n",
            " 5/11 https://www.ptt.cc//bbs/Gossiping/M.1620716589.A.F0C.html [公告] 八卦板板規(2021.05.11)\n",
            " 8/12 https://www.ptt.cc//bbs/Gossiping/M.1628741625.A.1B9.html [協尋] 8/10(二)16:25新莊新五路與新北大道交叉路口\n",
            " 8/16 https://www.ptt.cc//bbs/Gossiping/M.1629077034.A.5A9.html [協尋] 8/5興隆路四段與木柵路二段路口監視器\n",
            " 8/16 https://www.ptt.cc//bbs/Gossiping/M.1629128344.A.FC9.html [協尋] 8/16 行車記錄器 五權西路&工業22路 時間\n",
            " 8/17 https://www.ptt.cc//bbs/Gossiping/M.1629169099.A.BAB.html [協尋] 桃園市4歲黑貓走失\n"
          ],
          "name": "stdout"
        }
      ]
    }
  ]
}